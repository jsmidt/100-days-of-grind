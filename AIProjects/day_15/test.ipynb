{
 "cells": [
  {
   "cell_type": "code",
   "execution_count": 2,
   "metadata": {},
   "outputs": [],
   "source": [
    "import streamlit as st\n",
    "from dotenv import load_dotenv\n",
    "\n",
    "load_dotenv();"
   ]
  },
  {
   "cell_type": "code",
   "execution_count": 3,
   "metadata": {},
   "outputs": [
    {
     "name": "stderr",
     "output_type": "stream",
     "text": [
      "2025-02-28 09:53:36.809 WARNING streamlit.runtime.scriptrunner_utils.script_run_context: Thread 'MainThread': missing ScriptRunContext! This warning can be ignored when running in bare mode.\n",
      "2025-02-28 09:53:36.810 WARNING streamlit.runtime.scriptrunner_utils.script_run_context: Thread 'MainThread': missing ScriptRunContext! This warning can be ignored when running in bare mode.\n",
      "2025-02-28 09:53:36.865 \n",
      "  \u001b[33m\u001b[1mWarning:\u001b[0m to view this Streamlit app on a browser, run it with the following\n",
      "  command:\n",
      "\n",
      "    streamlit run /Users/jsmidt/Documents/Github/100-days-of-grind/.venv/lib/python3.12/site-packages/ipykernel_launcher.py [ARGUMENTS]\n",
      "2025-02-28 09:53:36.866 Thread 'MainThread': missing ScriptRunContext! This warning can be ignored when running in bare mode.\n"
     ]
    },
    {
     "data": {
      "text/plain": [
       "DeltaGenerator()"
      ]
     },
     "execution_count": 3,
     "metadata": {},
     "output_type": "execute_result"
    }
   ],
   "source": [
    "st.set_page_config(page_title=\"Streaming Bot\", page_icon='🤖')\n",
    "\n",
    "st.title(\"Streaming bot\")"
   ]
  },
  {
   "cell_type": "code",
   "execution_count": 3,
   "metadata": {},
   "outputs": [
    {
     "name": "stdout",
     "output_type": "stream",
     "text": [
      "\u001b[31mInit signature:\u001b[39m\n",
      "Tool(\n",
      "    name: \u001b[33m'str'\u001b[39m,\n",
      "    func: \u001b[33m'Optional[Callable]'\u001b[39m,\n",
      "    description: \u001b[33m'str'\u001b[39m,\n",
      "    *,\n",
      "    args_schema: Annotated[Union[type[pydantic.main.BaseModel], dict[str, Any], NoneType], SkipValidation()] = \u001b[38;5;28;01mNone\u001b[39;00m,\n",
      "    return_direct: bool = \u001b[38;5;28;01mFalse\u001b[39;00m,\n",
      "    verbose: bool = \u001b[38;5;28;01mFalse\u001b[39;00m,\n",
      "    callbacks: Union[list[langchain_core.callbacks.base.BaseCallbackHandler], langchain_core.callbacks.base.BaseCallbackManager, NoneType] = \u001b[38;5;28;01mNone\u001b[39;00m,\n",
      "    callback_manager: Optional[langchain_core.callbacks.base.BaseCallbackManager] = \u001b[38;5;28;01mNone\u001b[39;00m,\n",
      "    tags: Optional[list[str]] = \u001b[38;5;28;01mNone\u001b[39;00m,\n",
      "    metadata: Optional[dict[str, Any]] = \u001b[38;5;28;01mNone\u001b[39;00m,\n",
      "    handle_tool_error: Union[bool, str, Callable[[langchain_core.tools.base.ToolException], str], NoneType] = \u001b[38;5;28;01mFalse\u001b[39;00m,\n",
      "    handle_validation_error: Union[bool, str, Callable[[Union[pydantic_core._pydantic_core.ValidationError, pydantic.v1.error_wrappers.ValidationError]], str], NoneType] = \u001b[38;5;28;01mFalse\u001b[39;00m,\n",
      "    response_format: Literal[\u001b[33m'content'\u001b[39m, \u001b[33m'content_and_artifact'\u001b[39m] = \u001b[33m'content'\u001b[39m,\n",
      "    coroutine: Optional[Callable[..., collections.abc.Awaitable[str]]] = \u001b[38;5;28;01mNone\u001b[39;00m,\n",
      ") -> \u001b[38;5;28;01mNone\u001b[39;00m\n",
      "\u001b[31mDocstring:\u001b[39m      Tool that takes in function or coroutine directly.\n",
      "\u001b[31mInit docstring:\u001b[39m Initialize tool.\n",
      "\u001b[31mFile:\u001b[39m           ~/Documents/Github/100-days-of-grind/.venv/lib/python3.12/site-packages/langchain_core/tools/simple.py\n",
      "\u001b[31mType:\u001b[39m           ModelMetaclass\n",
      "\u001b[31mSubclasses:\u001b[39m     "
     ]
    }
   ],
   "source": [
    "from langchain.tools import Tool\n",
    "\n",
    "Tool?"
   ]
  },
  {
   "cell_type": "code",
   "execution_count": null,
   "metadata": {},
   "outputs": [
    {
     "ename": "ModuleNotFoundError",
     "evalue": "No module named 'langchain_anthropic'",
     "output_type": "error",
     "traceback": [
      "\u001b[31m---------------------------------------------------------------------------\u001b[39m",
      "\u001b[31mModuleNotFoundError\u001b[39m                       Traceback (most recent call last)",
      "\u001b[36mCell\u001b[39m\u001b[36m \u001b[39m\u001b[32mIn[4]\u001b[39m\u001b[32m, line 3\u001b[39m\n\u001b[32m      1\u001b[39m \u001b[38;5;28;01mfrom\u001b[39;00m\u001b[38;5;250m \u001b[39m\u001b[34;01mtyping\u001b[39;00m\u001b[38;5;250m \u001b[39m\u001b[38;5;28;01mimport\u001b[39;00m Annotated\n\u001b[32m----> \u001b[39m\u001b[32m3\u001b[39m \u001b[38;5;28;01mfrom\u001b[39;00m\u001b[38;5;250m \u001b[39m\u001b[34;01mlangchain_anthropic\u001b[39;00m\u001b[38;5;250m \u001b[39m\u001b[38;5;28;01mimport\u001b[39;00m ChatAnthropic\n\u001b[32m      4\u001b[39m \u001b[38;5;28;01mfrom\u001b[39;00m\u001b[38;5;250m \u001b[39m\u001b[34;01mtyping_extensions\u001b[39;00m\u001b[38;5;250m \u001b[39m\u001b[38;5;28;01mimport\u001b[39;00m TypedDict\n\u001b[32m      6\u001b[39m \u001b[38;5;28;01mfrom\u001b[39;00m\u001b[38;5;250m \u001b[39m\u001b[34;01mlanggraph\u001b[39;00m\u001b[34;01m.\u001b[39;00m\u001b[34;01mgraph\u001b[39;00m\u001b[38;5;250m \u001b[39m\u001b[38;5;28;01mimport\u001b[39;00m StateGraph\n",
      "\u001b[31mModuleNotFoundError\u001b[39m: No module named 'langchain_anthropic'"
     ]
    }
   ],
   "source": [
    "from typing import Annotated\n",
    "from langchain_google_genai import ChatGoogleGenerativeAI\n",
    "\n",
    "\n",
    "from typing_extensions import TypedDict\n",
    "\n",
    "from langgraph.graph import StateGraph\n",
    "from langgraph.graph.message import add_messages\n",
    "\n",
    "\n",
    "class State(TypedDict):\n",
    "    messages: Annotated[list, add_messages]\n",
    "\n",
    "\n",
    "graph_builder = StateGraph(State)\n",
    "\n",
    "\n",
    "llm = ChatGoogleGenerativeAI(\n",
    "    model=\"gemini-2.0-flash\",\n",
    "    temperature=1.0,\n",
    "    max_tokens=None,\n",
    "    timeout=None,\n",
    "    max_retries=2,\n",
    "    # other params...\n",
    ")\n",
    "\n",
    "def chatbot(state: State):\n",
    "    return {\"messages\": [llm.invoke(state[\"messages\"])]}\n",
    "\n",
    "\n",
    "# The first argument is the unique node name\n",
    "# The second argument is the function or object that will be called whenever\n",
    "# the node is used.\n",
    "graph_builder.add_node(\"chatbot\", chatbot)\n",
    "graph_builder.set_entry_point(\"chatbot\")\n",
    "graph_builder.set_finish_point(\"chatbot\")\n",
    "graph = graph_builder.compile()"
   ]
  },
  {
   "cell_type": "markdown",
   "metadata": {},
   "source": [
    "### Y1: Do no harm, examine, identify problems\n",
    "### Y2: Right people on bus and wrong people off.  Vision of 5-year plan with clear Y1 vistory.\n",
    "### Y3: Iterate on plan based on executing Y1. Get clear Y1 vistory.\n",
    "### Y4: Use clear Y1 victory to grow investment and scale. bring stability to 5-year plat. Y2 victory. \n",
    "### Y5: Get succession planning right and get Y3 victory. \n",
    "### Y6: Can move on, and new person will be in Y1 meaning Y4 victory should be achieved either way. \n",
    "### Y7: New person will develop a new 5-year plan going forward. But that is okay because this is Y5 of yours and so your vision happened.\n"
   ]
  },
  {
   "cell_type": "markdown",
   "metadata": {},
   "source": []
  }
 ],
 "metadata": {
  "kernelspec": {
   "display_name": ".venv",
   "language": "python",
   "name": "python3"
  },
  "language_info": {
   "codemirror_mode": {
    "name": "ipython",
    "version": 3
   },
   "file_extension": ".py",
   "mimetype": "text/x-python",
   "name": "python",
   "nbconvert_exporter": "python",
   "pygments_lexer": "ipython3",
   "version": "3.12.9"
  }
 },
 "nbformat": 4,
 "nbformat_minor": 2
}
